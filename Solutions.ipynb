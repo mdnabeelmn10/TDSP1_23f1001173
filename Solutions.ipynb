{
 "cells": [
  {
   "cell_type": "code",
   "execution_count": 1,
   "metadata": {},
   "outputs": [],
   "source": [
    "import numpy as np\n",
    "import pandas as pd"
   ]
  },
  {
   "cell_type": "code",
   "execution_count": 2,
   "metadata": {},
   "outputs": [
    {
     "data": {
      "text/html": [
       "<div>\n",
       "<style scoped>\n",
       "    .dataframe tbody tr th:only-of-type {\n",
       "        vertical-align: middle;\n",
       "    }\n",
       "\n",
       "    .dataframe tbody tr th {\n",
       "        vertical-align: top;\n",
       "    }\n",
       "\n",
       "    .dataframe thead th {\n",
       "        text-align: right;\n",
       "    }\n",
       "</style>\n",
       "<table border=\"1\" class=\"dataframe\">\n",
       "  <thead>\n",
       "    <tr style=\"text-align: right;\">\n",
       "      <th></th>\n",
       "      <th>login</th>\n",
       "      <th>name</th>\n",
       "      <th>company</th>\n",
       "      <th>location</th>\n",
       "      <th>email</th>\n",
       "      <th>hireable</th>\n",
       "      <th>bio</th>\n",
       "      <th>public_repos</th>\n",
       "      <th>followers</th>\n",
       "      <th>following</th>\n",
       "      <th>created_at</th>\n",
       "    </tr>\n",
       "  </thead>\n",
       "  <tbody>\n",
       "    <tr>\n",
       "      <th>0</th>\n",
       "      <td>peng-zhihui</td>\n",
       "      <td>稚晖</td>\n",
       "      <td>HUAWEI RESEARCH</td>\n",
       "      <td>Shanghai</td>\n",
       "      <td>prime_zhihui@foxmail.com</td>\n",
       "      <td>NaN</td>\n",
       "      <td>野生钢铁侠本侠。</td>\n",
       "      <td>59</td>\n",
       "      <td>80672</td>\n",
       "      <td>9</td>\n",
       "      <td>2015-06-22T04:59:39Z</td>\n",
       "    </tr>\n",
       "    <tr>\n",
       "      <th>1</th>\n",
       "      <td>ruanyf</td>\n",
       "      <td>Ruan YiFeng</td>\n",
       "      <td>NaN</td>\n",
       "      <td>Shanghai, China</td>\n",
       "      <td>yifeng.ruan@gmail.com</td>\n",
       "      <td>NaN</td>\n",
       "      <td>NaN</td>\n",
       "      <td>72</td>\n",
       "      <td>79326</td>\n",
       "      <td>0</td>\n",
       "      <td>2011-07-10T01:07:17Z</td>\n",
       "    </tr>\n",
       "    <tr>\n",
       "      <th>2</th>\n",
       "      <td>phodal</td>\n",
       "      <td>Fengda Huang</td>\n",
       "      <td>THOUGHTWORKS</td>\n",
       "      <td>Shanghai / Hangzhou, China</td>\n",
       "      <td>h@phodal.com</td>\n",
       "      <td>True</td>\n",
       "      <td>I'm digging holes.</td>\n",
       "      <td>367</td>\n",
       "      <td>20060</td>\n",
       "      <td>9</td>\n",
       "      <td>2010-11-08T11:46:51Z</td>\n",
       "    </tr>\n",
       "    <tr>\n",
       "      <th>3</th>\n",
       "      <td>liyupi</td>\n",
       "      <td>程序员鱼皮</td>\n",
       "      <td>编程学习公众号【程序员鱼皮】</td>\n",
       "      <td>China Shanghai</td>\n",
       "      <td>592789970@qq.com</td>\n",
       "      <td>True</td>\n",
       "      <td>speak less do more！前腾讯全栈开发，现科技公司创始人</td>\n",
       "      <td>82</td>\n",
       "      <td>17378</td>\n",
       "      <td>29</td>\n",
       "      <td>2017-02-26T08:44:22Z</td>\n",
       "    </tr>\n",
       "    <tr>\n",
       "      <th>4</th>\n",
       "      <td>stormzhang</td>\n",
       "      <td>stormzhang</td>\n",
       "      <td>BOOHEE, INC.</td>\n",
       "      <td>Shanghai, China</td>\n",
       "      <td>stormzhang.dev@gmail.com</td>\n",
       "      <td>NaN</td>\n",
       "      <td>微信公众号：stormzhang</td>\n",
       "      <td>5</td>\n",
       "      <td>15879</td>\n",
       "      <td>91</td>\n",
       "      <td>2012-09-03T02:58:11Z</td>\n",
       "    </tr>\n",
       "    <tr>\n",
       "      <th>...</th>\n",
       "      <td>...</td>\n",
       "      <td>...</td>\n",
       "      <td>...</td>\n",
       "      <td>...</td>\n",
       "      <td>...</td>\n",
       "      <td>...</td>\n",
       "      <td>...</td>\n",
       "      <td>...</td>\n",
       "      <td>...</td>\n",
       "      <td>...</td>\n",
       "      <td>...</td>\n",
       "    </tr>\n",
       "    <tr>\n",
       "      <th>737</th>\n",
       "      <td>black-binary</td>\n",
       "      <td>Black Binary</td>\n",
       "      <td>TENCENT</td>\n",
       "      <td>Shanghai</td>\n",
       "      <td>NaN</td>\n",
       "      <td>NaN</td>\n",
       "      <td>Reverse-Engineering/CTF Player\\r\\n\\r\\nC/C++/Ru...</td>\n",
       "      <td>29</td>\n",
       "      <td>202</td>\n",
       "      <td>57</td>\n",
       "      <td>2015-02-19T09:15:35Z</td>\n",
       "    </tr>\n",
       "    <tr>\n",
       "      <th>738</th>\n",
       "      <td>windoze</td>\n",
       "      <td>徐辰</td>\n",
       "      <td>NaN</td>\n",
       "      <td>Shanghai, China</td>\n",
       "      <td>windoze@0d0a.com</td>\n",
       "      <td>NaN</td>\n",
       "      <td>NaN</td>\n",
       "      <td>221</td>\n",
       "      <td>201</td>\n",
       "      <td>0</td>\n",
       "      <td>2009-11-03T02:12:35Z</td>\n",
       "    </tr>\n",
       "    <tr>\n",
       "      <th>739</th>\n",
       "      <td>nighca</td>\n",
       "      <td>Hanxing Yang</td>\n",
       "      <td>NaN</td>\n",
       "      <td>Shanghai</td>\n",
       "      <td>nighca@live.cn</td>\n",
       "      <td>True</td>\n",
       "      <td>Engineer</td>\n",
       "      <td>99</td>\n",
       "      <td>201</td>\n",
       "      <td>56</td>\n",
       "      <td>2012-03-02T11:22:16Z</td>\n",
       "    </tr>\n",
       "    <tr>\n",
       "      <th>740</th>\n",
       "      <td>HiWong</td>\n",
       "      <td>HiWong</td>\n",
       "      <td>BYTEDANCE</td>\n",
       "      <td>Shanghai</td>\n",
       "      <td>bettarwang@163.com</td>\n",
       "      <td>NaN</td>\n",
       "      <td>Android Developer</td>\n",
       "      <td>994</td>\n",
       "      <td>201</td>\n",
       "      <td>49</td>\n",
       "      <td>2014-12-04T01:54:59Z</td>\n",
       "    </tr>\n",
       "    <tr>\n",
       "      <th>741</th>\n",
       "      <td>EricGao888</td>\n",
       "      <td>Eric Gao</td>\n",
       "      <td>ALIBABA</td>\n",
       "      <td>Shanghai, China</td>\n",
       "      <td>chufenggao@gmail.com</td>\n",
       "      <td>NaN</td>\n",
       "      <td>PMC-member@Apache DolphinScheduler, SDE@Alibab...</td>\n",
       "      <td>81</td>\n",
       "      <td>201</td>\n",
       "      <td>126</td>\n",
       "      <td>2017-12-28T05:33:48Z</td>\n",
       "    </tr>\n",
       "  </tbody>\n",
       "</table>\n",
       "<p>742 rows × 11 columns</p>\n",
       "</div>"
      ],
      "text/plain": [
       "            login          name          company                    location  \\\n",
       "0     peng-zhihui            稚晖  HUAWEI RESEARCH                    Shanghai   \n",
       "1          ruanyf   Ruan YiFeng              NaN             Shanghai, China   \n",
       "2          phodal  Fengda Huang     THOUGHTWORKS  Shanghai / Hangzhou, China   \n",
       "3          liyupi         程序员鱼皮   编程学习公众号【程序员鱼皮】              China Shanghai   \n",
       "4      stormzhang    stormzhang     BOOHEE, INC.             Shanghai, China   \n",
       "..            ...           ...              ...                         ...   \n",
       "737  black-binary  Black Binary          TENCENT                    Shanghai   \n",
       "738       windoze            徐辰              NaN             Shanghai, China   \n",
       "739        nighca  Hanxing Yang              NaN                    Shanghai   \n",
       "740        HiWong        HiWong        BYTEDANCE                    Shanghai   \n",
       "741    EricGao888      Eric Gao          ALIBABA             Shanghai, China   \n",
       "\n",
       "                        email hireable  \\\n",
       "0    prime_zhihui@foxmail.com      NaN   \n",
       "1       yifeng.ruan@gmail.com      NaN   \n",
       "2                h@phodal.com     True   \n",
       "3            592789970@qq.com     True   \n",
       "4    stormzhang.dev@gmail.com      NaN   \n",
       "..                        ...      ...   \n",
       "737                       NaN      NaN   \n",
       "738          windoze@0d0a.com      NaN   \n",
       "739            nighca@live.cn     True   \n",
       "740        bettarwang@163.com      NaN   \n",
       "741      chufenggao@gmail.com      NaN   \n",
       "\n",
       "                                                   bio  public_repos  \\\n",
       "0                                             野生钢铁侠本侠。            59   \n",
       "1                                                  NaN            72   \n",
       "2                                   I'm digging holes.           367   \n",
       "3                  speak less do more！前腾讯全栈开发，现科技公司创始人            82   \n",
       "4                                     微信公众号：stormzhang             5   \n",
       "..                                                 ...           ...   \n",
       "737  Reverse-Engineering/CTF Player\\r\\n\\r\\nC/C++/Ru...            29   \n",
       "738                                                NaN           221   \n",
       "739                                           Engineer            99   \n",
       "740                                  Android Developer           994   \n",
       "741  PMC-member@Apache DolphinScheduler, SDE@Alibab...            81   \n",
       "\n",
       "     followers  following            created_at  \n",
       "0        80672          9  2015-06-22T04:59:39Z  \n",
       "1        79326          0  2011-07-10T01:07:17Z  \n",
       "2        20060          9  2010-11-08T11:46:51Z  \n",
       "3        17378         29  2017-02-26T08:44:22Z  \n",
       "4        15879         91  2012-09-03T02:58:11Z  \n",
       "..         ...        ...                   ...  \n",
       "737        202         57  2015-02-19T09:15:35Z  \n",
       "738        201          0  2009-11-03T02:12:35Z  \n",
       "739        201         56  2012-03-02T11:22:16Z  \n",
       "740        201         49  2014-12-04T01:54:59Z  \n",
       "741        201        126  2017-12-28T05:33:48Z  \n",
       "\n",
       "[742 rows x 11 columns]"
      ]
     },
     "execution_count": 2,
     "metadata": {},
     "output_type": "execute_result"
    }
   ],
   "source": [
    "userdata = pd.read_csv(\"users.csv\")\n",
    "userdata"
   ]
  },
  {
   "cell_type": "code",
   "execution_count": 5,
   "metadata": {},
   "outputs": [
    {
     "name": "stdout",
     "output_type": "stream",
     "text": [
      "<class 'pandas.core.frame.DataFrame'>\n",
      "RangeIndex: 742 entries, 0 to 741\n",
      "Data columns (total 11 columns):\n",
      " #   Column        Non-Null Count  Dtype              \n",
      "---  ------        --------------  -----              \n",
      " 0   login         742 non-null    object             \n",
      " 1   name          742 non-null    object             \n",
      " 2   company       742 non-null    object             \n",
      " 3   location      742 non-null    object             \n",
      " 4   email         742 non-null    object             \n",
      " 5   hireable      215 non-null    object             \n",
      " 6   bio           742 non-null    object             \n",
      " 7   public_repos  742 non-null    int32              \n",
      " 8   followers     742 non-null    int32              \n",
      " 9   following     742 non-null    int32              \n",
      " 10  created_at    742 non-null    datetime64[ns, UTC]\n",
      "dtypes: datetime64[ns, UTC](1), int32(3), object(7)\n",
      "memory usage: 55.2+ KB\n"
     ]
    },
    {
     "name": "stderr",
     "output_type": "stream",
     "text": [
      "C:\\Users\\p cc\\AppData\\Local\\Temp\\ipykernel_6456\\2523975849.py:1: FutureWarning: DataFrame.applymap has been deprecated. Use DataFrame.map instead.\n",
      "  userdata = userdata.applymap(lambda x: x.strip() if isinstance(x, str) else x)\n"
     ]
    }
   ],
   "source": [
    "userdata = userdata.applymap(lambda x: x.strip() if isinstance(x, str) else x)\n",
    "\n",
    "userdata['followers'] = pd.to_numeric(userdata['followers'], errors='coerce').fillna(0).astype(int)\n",
    "userdata['following'] = pd.to_numeric(userdata['following'], errors='coerce').fillna(0).astype(int)\n",
    "userdata['public_repos'] = pd.to_numeric(userdata['public_repos'], errors='coerce').fillna(0).astype(int)\n",
    "userdata['created_at'] = pd.to_datetime(userdata['created_at'], errors='coerce')\n",
    "userdata[['name', 'company', 'location', 'email', 'bio']] = userdata[['name', 'company', 'location', 'email', 'bio']].fillna('')\n",
    "\n",
    "userdata.info()"
   ]
  },
  {
   "cell_type": "code",
   "execution_count": 6,
   "metadata": {},
   "outputs": [
    {
     "data": {
      "text/html": [
       "<div>\n",
       "<style scoped>\n",
       "    .dataframe tbody tr th:only-of-type {\n",
       "        vertical-align: middle;\n",
       "    }\n",
       "\n",
       "    .dataframe tbody tr th {\n",
       "        vertical-align: top;\n",
       "    }\n",
       "\n",
       "    .dataframe thead th {\n",
       "        text-align: right;\n",
       "    }\n",
       "</style>\n",
       "<table border=\"1\" class=\"dataframe\">\n",
       "  <thead>\n",
       "    <tr style=\"text-align: right;\">\n",
       "      <th></th>\n",
       "      <th>login</th>\n",
       "      <th>full_name</th>\n",
       "      <th>created_at</th>\n",
       "      <th>stargazers_count</th>\n",
       "      <th>watchers_count</th>\n",
       "      <th>language</th>\n",
       "      <th>has_projects</th>\n",
       "      <th>has_wiki</th>\n",
       "      <th>license_name</th>\n",
       "    </tr>\n",
       "  </thead>\n",
       "  <tbody>\n",
       "    <tr>\n",
       "      <th>0</th>\n",
       "      <td>peng-zhihui</td>\n",
       "      <td>peng-zhihui/A-Eye</td>\n",
       "      <td>2019-10-02T15:54:46Z</td>\n",
       "      <td>1181</td>\n",
       "      <td>1181</td>\n",
       "      <td>C</td>\n",
       "      <td>True</td>\n",
       "      <td>True</td>\n",
       "      <td>NaN</td>\n",
       "    </tr>\n",
       "    <tr>\n",
       "      <th>1</th>\n",
       "      <td>peng-zhihui</td>\n",
       "      <td>peng-zhihui/agibot_x1_hardware</td>\n",
       "      <td>2024-10-24T08:57:19Z</td>\n",
       "      <td>53</td>\n",
       "      <td>53</td>\n",
       "      <td>NaN</td>\n",
       "      <td>True</td>\n",
       "      <td>False</td>\n",
       "      <td>NaN</td>\n",
       "    </tr>\n",
       "    <tr>\n",
       "      <th>2</th>\n",
       "      <td>peng-zhihui</td>\n",
       "      <td>peng-zhihui/agibot_x1_infer</td>\n",
       "      <td>2024-10-24T05:25:27Z</td>\n",
       "      <td>23</td>\n",
       "      <td>23</td>\n",
       "      <td>NaN</td>\n",
       "      <td>True</td>\n",
       "      <td>False</td>\n",
       "      <td>other</td>\n",
       "    </tr>\n",
       "    <tr>\n",
       "      <th>3</th>\n",
       "      <td>peng-zhihui</td>\n",
       "      <td>peng-zhihui/agibot_x1_train</td>\n",
       "      <td>2024-10-24T05:25:33Z</td>\n",
       "      <td>25</td>\n",
       "      <td>25</td>\n",
       "      <td>NaN</td>\n",
       "      <td>True</td>\n",
       "      <td>False</td>\n",
       "      <td>NaN</td>\n",
       "    </tr>\n",
       "    <tr>\n",
       "      <th>4</th>\n",
       "      <td>peng-zhihui</td>\n",
       "      <td>peng-zhihui/AimRT</td>\n",
       "      <td>2024-09-23T10:32:35Z</td>\n",
       "      <td>72</td>\n",
       "      <td>72</td>\n",
       "      <td>NaN</td>\n",
       "      <td>True</td>\n",
       "      <td>True</td>\n",
       "      <td>other</td>\n",
       "    </tr>\n",
       "    <tr>\n",
       "      <th>...</th>\n",
       "      <td>...</td>\n",
       "      <td>...</td>\n",
       "      <td>...</td>\n",
       "      <td>...</td>\n",
       "      <td>...</td>\n",
       "      <td>...</td>\n",
       "      <td>...</td>\n",
       "      <td>...</td>\n",
       "      <td>...</td>\n",
       "    </tr>\n",
       "    <tr>\n",
       "      <th>58949</th>\n",
       "      <td>EricGao888</td>\n",
       "      <td>EricGao888/tut-spring-boot-oauth2</td>\n",
       "      <td>2022-10-20T08:47:05Z</td>\n",
       "      <td>0</td>\n",
       "      <td>0</td>\n",
       "      <td>NaN</td>\n",
       "      <td>True</td>\n",
       "      <td>True</td>\n",
       "      <td>NaN</td>\n",
       "    </tr>\n",
       "    <tr>\n",
       "      <th>58950</th>\n",
       "      <td>EricGao888</td>\n",
       "      <td>EricGao888/zeppelin</td>\n",
       "      <td>2021-06-04T08:14:21Z</td>\n",
       "      <td>0</td>\n",
       "      <td>0</td>\n",
       "      <td>Java</td>\n",
       "      <td>True</td>\n",
       "      <td>False</td>\n",
       "      <td>apache-2.0</td>\n",
       "    </tr>\n",
       "    <tr>\n",
       "      <th>58951</th>\n",
       "      <td>EricGao888</td>\n",
       "      <td>EricGao888/zeppelin-notebook</td>\n",
       "      <td>2022-07-20T03:28:02Z</td>\n",
       "      <td>0</td>\n",
       "      <td>0</td>\n",
       "      <td>NaN</td>\n",
       "      <td>True</td>\n",
       "      <td>True</td>\n",
       "      <td>NaN</td>\n",
       "    </tr>\n",
       "    <tr>\n",
       "      <th>58952</th>\n",
       "      <td>EricGao888</td>\n",
       "      <td>EricGao888/zeppelin_airflow</td>\n",
       "      <td>2022-04-27T12:50:46Z</td>\n",
       "      <td>0</td>\n",
       "      <td>0</td>\n",
       "      <td>NaN</td>\n",
       "      <td>True</td>\n",
       "      <td>True</td>\n",
       "      <td>apache-2.0</td>\n",
       "    </tr>\n",
       "    <tr>\n",
       "      <th>58953</th>\n",
       "      <td>EricGao888</td>\n",
       "      <td>EricGao888/zookeeper</td>\n",
       "      <td>2022-12-19T15:10:48Z</td>\n",
       "      <td>0</td>\n",
       "      <td>0</td>\n",
       "      <td>NaN</td>\n",
       "      <td>True</td>\n",
       "      <td>False</td>\n",
       "      <td>apache-2.0</td>\n",
       "    </tr>\n",
       "  </tbody>\n",
       "</table>\n",
       "<p>58954 rows × 9 columns</p>\n",
       "</div>"
      ],
      "text/plain": [
       "             login                          full_name            created_at  \\\n",
       "0      peng-zhihui                  peng-zhihui/A-Eye  2019-10-02T15:54:46Z   \n",
       "1      peng-zhihui     peng-zhihui/agibot_x1_hardware  2024-10-24T08:57:19Z   \n",
       "2      peng-zhihui        peng-zhihui/agibot_x1_infer  2024-10-24T05:25:27Z   \n",
       "3      peng-zhihui        peng-zhihui/agibot_x1_train  2024-10-24T05:25:33Z   \n",
       "4      peng-zhihui                  peng-zhihui/AimRT  2024-09-23T10:32:35Z   \n",
       "...            ...                                ...                   ...   \n",
       "58949   EricGao888  EricGao888/tut-spring-boot-oauth2  2022-10-20T08:47:05Z   \n",
       "58950   EricGao888                EricGao888/zeppelin  2021-06-04T08:14:21Z   \n",
       "58951   EricGao888       EricGao888/zeppelin-notebook  2022-07-20T03:28:02Z   \n",
       "58952   EricGao888        EricGao888/zeppelin_airflow  2022-04-27T12:50:46Z   \n",
       "58953   EricGao888               EricGao888/zookeeper  2022-12-19T15:10:48Z   \n",
       "\n",
       "       stargazers_count  watchers_count language  has_projects  has_wiki  \\\n",
       "0                  1181            1181        C          True      True   \n",
       "1                    53              53      NaN          True     False   \n",
       "2                    23              23      NaN          True     False   \n",
       "3                    25              25      NaN          True     False   \n",
       "4                    72              72      NaN          True      True   \n",
       "...                 ...             ...      ...           ...       ...   \n",
       "58949                 0               0      NaN          True      True   \n",
       "58950                 0               0     Java          True     False   \n",
       "58951                 0               0      NaN          True      True   \n",
       "58952                 0               0      NaN          True      True   \n",
       "58953                 0               0      NaN          True     False   \n",
       "\n",
       "      license_name  \n",
       "0              NaN  \n",
       "1              NaN  \n",
       "2            other  \n",
       "3              NaN  \n",
       "4            other  \n",
       "...            ...  \n",
       "58949          NaN  \n",
       "58950   apache-2.0  \n",
       "58951          NaN  \n",
       "58952   apache-2.0  \n",
       "58953   apache-2.0  \n",
       "\n",
       "[58954 rows x 9 columns]"
      ]
     },
     "execution_count": 6,
     "metadata": {},
     "output_type": "execute_result"
    }
   ],
   "source": [
    "repodata = pd.read_csv(\"repositories.csv\")\n",
    "repodata"
   ]
  },
  {
   "cell_type": "code",
   "execution_count": 8,
   "metadata": {},
   "outputs": [
    {
     "name": "stdout",
     "output_type": "stream",
     "text": [
      "<class 'pandas.core.frame.DataFrame'>\n",
      "RangeIndex: 58954 entries, 0 to 58953\n",
      "Data columns (total 9 columns):\n",
      " #   Column            Non-Null Count  Dtype \n",
      "---  ------            --------------  ----- \n",
      " 0   login             58954 non-null  object\n",
      " 1   full_name         58954 non-null  object\n",
      " 2   created_at        58954 non-null  object\n",
      " 3   stargazers_count  58954 non-null  int64 \n",
      " 4   watchers_count    58954 non-null  int64 \n",
      " 5   language          40892 non-null  object\n",
      " 6   has_projects      58954 non-null  bool  \n",
      " 7   has_wiki          58954 non-null  bool  \n",
      " 8   license_name      33813 non-null  object\n",
      "dtypes: bool(2), int64(2), object(5)\n",
      "memory usage: 3.3+ MB\n"
     ]
    },
    {
     "name": "stderr",
     "output_type": "stream",
     "text": [
      "C:\\Users\\p cc\\AppData\\Local\\Temp\\ipykernel_6456\\1774475952.py:3: FutureWarning: DataFrame.applymap has been deprecated. Use DataFrame.map instead.\n",
      "  repodata = repodata.applymap(lambda x: x.strip() if isinstance(x, str) else x)\n"
     ]
    },
    {
     "data": {
      "text/html": [
       "<div>\n",
       "<style scoped>\n",
       "    .dataframe tbody tr th:only-of-type {\n",
       "        vertical-align: middle;\n",
       "    }\n",
       "\n",
       "    .dataframe tbody tr th {\n",
       "        vertical-align: top;\n",
       "    }\n",
       "\n",
       "    .dataframe thead th {\n",
       "        text-align: right;\n",
       "    }\n",
       "</style>\n",
       "<table border=\"1\" class=\"dataframe\">\n",
       "  <thead>\n",
       "    <tr style=\"text-align: right;\">\n",
       "      <th></th>\n",
       "      <th>login</th>\n",
       "      <th>full_name</th>\n",
       "      <th>created_at</th>\n",
       "      <th>stargazers_count</th>\n",
       "      <th>watchers_count</th>\n",
       "      <th>language</th>\n",
       "      <th>has_projects</th>\n",
       "      <th>has_wiki</th>\n",
       "      <th>license_name</th>\n",
       "    </tr>\n",
       "  </thead>\n",
       "  <tbody>\n",
       "    <tr>\n",
       "      <th>0</th>\n",
       "      <td>peng-zhihui</td>\n",
       "      <td>peng-zhihui/A-Eye</td>\n",
       "      <td>2019-10-02 15:54:46+00:00</td>\n",
       "      <td>1181</td>\n",
       "      <td>1181</td>\n",
       "      <td>C</td>\n",
       "      <td>True</td>\n",
       "      <td>True</td>\n",
       "      <td></td>\n",
       "    </tr>\n",
       "    <tr>\n",
       "      <th>1</th>\n",
       "      <td>peng-zhihui</td>\n",
       "      <td>peng-zhihui/agibot_x1_hardware</td>\n",
       "      <td>2024-10-24 08:57:19+00:00</td>\n",
       "      <td>53</td>\n",
       "      <td>53</td>\n",
       "      <td></td>\n",
       "      <td>True</td>\n",
       "      <td>False</td>\n",
       "      <td></td>\n",
       "    </tr>\n",
       "    <tr>\n",
       "      <th>2</th>\n",
       "      <td>peng-zhihui</td>\n",
       "      <td>peng-zhihui/agibot_x1_infer</td>\n",
       "      <td>2024-10-24 05:25:27+00:00</td>\n",
       "      <td>23</td>\n",
       "      <td>23</td>\n",
       "      <td></td>\n",
       "      <td>True</td>\n",
       "      <td>False</td>\n",
       "      <td>other</td>\n",
       "    </tr>\n",
       "    <tr>\n",
       "      <th>3</th>\n",
       "      <td>peng-zhihui</td>\n",
       "      <td>peng-zhihui/agibot_x1_train</td>\n",
       "      <td>2024-10-24 05:25:33+00:00</td>\n",
       "      <td>25</td>\n",
       "      <td>25</td>\n",
       "      <td></td>\n",
       "      <td>True</td>\n",
       "      <td>False</td>\n",
       "      <td></td>\n",
       "    </tr>\n",
       "    <tr>\n",
       "      <th>4</th>\n",
       "      <td>peng-zhihui</td>\n",
       "      <td>peng-zhihui/AimRT</td>\n",
       "      <td>2024-09-23 10:32:35+00:00</td>\n",
       "      <td>72</td>\n",
       "      <td>72</td>\n",
       "      <td></td>\n",
       "      <td>True</td>\n",
       "      <td>True</td>\n",
       "      <td>other</td>\n",
       "    </tr>\n",
       "  </tbody>\n",
       "</table>\n",
       "</div>"
      ],
      "text/plain": [
       "         login                       full_name                created_at  \\\n",
       "0  peng-zhihui               peng-zhihui/A-Eye 2019-10-02 15:54:46+00:00   \n",
       "1  peng-zhihui  peng-zhihui/agibot_x1_hardware 2024-10-24 08:57:19+00:00   \n",
       "2  peng-zhihui     peng-zhihui/agibot_x1_infer 2024-10-24 05:25:27+00:00   \n",
       "3  peng-zhihui     peng-zhihui/agibot_x1_train 2024-10-24 05:25:33+00:00   \n",
       "4  peng-zhihui               peng-zhihui/AimRT 2024-09-23 10:32:35+00:00   \n",
       "\n",
       "   stargazers_count  watchers_count language  has_projects  has_wiki  \\\n",
       "0              1181            1181        C          True      True   \n",
       "1                53              53                   True     False   \n",
       "2                23              23                   True     False   \n",
       "3                25              25                   True     False   \n",
       "4                72              72                   True      True   \n",
       "\n",
       "  license_name  \n",
       "0               \n",
       "1               \n",
       "2        other  \n",
       "3               \n",
       "4        other  "
      ]
     },
     "execution_count": 8,
     "metadata": {},
     "output_type": "execute_result"
    }
   ],
   "source": [
    "repodata = repodata.applymap(lambda x: x.strip() if isinstance(x, str) else x)\n",
    "\n",
    "repodata['stargazers_count'] = pd.to_numeric(repodata['stargazers_count'], errors='coerce').fillna(0).astype(int)\n",
    "repodata['watchers_count'] = pd.to_numeric(repodata['watchers_count'], errors='coerce').fillna(0).astype(int)\n",
    "repodata['created_at'] = pd.to_datetime(repodata['created_at'], errors='coerce')\n",
    "repodata[['full_name', 'language','has_projects','has_wiki','license_name']] = repodata[['full_name', 'language','has_projects','has_wiki','license_name']].fillna('')\n",
    "\n",
    "repodata.head(5)"
   ]
  },
  {
   "cell_type": "markdown",
   "metadata": {},
   "source": [
    "1. Who are the top 5 users in Shanghai with the highest number of followers? List their login in order, comma-separated."
   ]
  },
  {
   "cell_type": "code",
   "execution_count": 14,
   "metadata": {},
   "outputs": [
    {
     "data": {
      "text/plain": [
       "'peng-zhihui,ruanyf,phodal,liyupi,stormzhang'"
      ]
     },
     "execution_count": 14,
     "metadata": {},
     "output_type": "execute_result"
    }
   ],
   "source": [
    "top5 = userdata.sort_values(by=\"followers\",ascending=False)\n",
    "top5 = top5.head(5)\n",
    "\n",
    "ans1 = (\",\").join(top5[\"login\"])\n",
    "ans1"
   ]
  },
  {
   "cell_type": "markdown",
   "metadata": {},
   "source": [
    "2. Who are the 5 earliest registered GitHub users in Shanghai? List their login in ascending order of created_at, comma-separated."
   ]
  },
  {
   "cell_type": "code",
   "execution_count": 16,
   "metadata": {},
   "outputs": [
    {
     "data": {
      "text/plain": [
       "'osteele,mrluanma,ShiningRay,rainux,why404'"
      ]
     },
     "execution_count": 16,
     "metadata": {},
     "output_type": "execute_result"
    }
   ],
   "source": [
    "earliest5 = userdata.sort_values(by=\"created_at\",ascending=True).head(5)\n",
    "\n",
    "ans2 = (\",\").join(earliest5[\"login\"])\n",
    "ans2"
   ]
  },
  {
   "cell_type": "markdown",
   "metadata": {},
   "source": [
    "3. What are the 3 most popular license among these users? Ignore missing licenses. List the license_name in order, comma-separated."
   ]
  },
  {
   "cell_type": "code",
   "execution_count": 24,
   "metadata": {},
   "outputs": [
    {
     "data": {
      "text/plain": [
       "'mit,apache-2.0,other'"
      ]
     },
     "execution_count": 24,
     "metadata": {},
     "output_type": "execute_result"
    }
   ],
   "source": [
    "top3licenses = repodata[repodata[\"license_name\"] != \"\"]\n",
    "\n",
    "top3licenses = top3licenses[\"license_name\"].value_counts().head(3)\n",
    "\n",
    "top3licenses\n",
    "ans3 = (\",\").join(top3licenses.index)\n",
    "\n",
    "ans3"
   ]
  },
  {
   "cell_type": "markdown",
   "metadata": {},
   "source": [
    "4. Which company do the majority of these developers work at?"
   ]
  },
  {
   "cell_type": "code",
   "execution_count": 36,
   "metadata": {},
   "outputs": [
    {
     "data": {
      "text/plain": [
       "'BYTEDANCE'"
      ]
     },
     "execution_count": 36,
     "metadata": {},
     "output_type": "execute_result"
    }
   ],
   "source": [
    "majoritycompany = userdata[userdata[\"company\"] != \"\"]\n",
    "\n",
    "majoritycompany = majoritycompany[\"company\"].value_counts().head(1).index.item()\n",
    "\n",
    "majoritycompany "
   ]
  },
  {
   "cell_type": "markdown",
   "metadata": {},
   "source": [
    "5. Which programming language is most popular among these users?\n"
   ]
  },
  {
   "cell_type": "code",
   "execution_count": 41,
   "metadata": {},
   "outputs": [
    {
     "data": {
      "text/plain": [
       "'JavaScript'"
      ]
     },
     "execution_count": 41,
     "metadata": {},
     "output_type": "execute_result"
    }
   ],
   "source": [
    "popularlang = repodata[repodata['language']!=\"\"]\n",
    "\n",
    "popularlang = popularlang[\"language\"].value_counts().head(1).index.item()\n",
    "popularlang"
   ]
  },
  {
   "cell_type": "markdown",
   "metadata": {},
   "source": [
    "6. Which programming language is the second most popular among users who joined after 2020?\n"
   ]
  },
  {
   "cell_type": "code",
   "execution_count": 60,
   "metadata": {},
   "outputs": [
    {
     "data": {
      "text/plain": [
       "language\n",
       "Python        1504\n",
       "TypeScript    1055\n",
       "Go             838\n",
       "Name: count, dtype: int64"
      ]
     },
     "execution_count": 60,
     "metadata": {},
     "output_type": "execute_result"
    }
   ],
   "source": [
    "langafter2020 = repodata[(repodata[\"created_at\"].dt.year > 2020) & (repodata[\"language\"]!=\"\")]\n",
    "langafter2020 = langafter2020[\"language\"].value_counts().head(3)\n",
    "\n",
    "langafter2020"
   ]
  },
  {
   "cell_type": "markdown",
   "metadata": {},
   "source": [
    "7. Which language has the highest average number of stars per repository?"
   ]
  },
  {
   "cell_type": "code",
   "execution_count": 62,
   "metadata": {},
   "outputs": [
    {
     "data": {
      "text/plain": [
       "'Rich Text Format'"
      ]
     },
     "execution_count": 62,
     "metadata": {},
     "output_type": "execute_result"
    }
   ],
   "source": [
    "repodata = repodata[(repodata['language'] != \"\") & (repodata['stargazers_count'].notna())]\n",
    "avg_stars_lang = repodata.groupby('language')['stargazers_count'].mean()\n",
    "top_lang = avg_stars_lang.idxmax()\n",
    "top_avg_stars = avg_stars_lang.max()\n",
    "\n",
    "top_lang"
   ]
  },
  {
   "cell_type": "markdown",
   "metadata": {},
   "source": [
    "8. Let's define leader_strength as followers / (1 + following). Who are the top 5 in terms of leader_strength? List their login in order, comma-separated."
   ]
  },
  {
   "cell_type": "code",
   "execution_count": 70,
   "metadata": {},
   "outputs": [
    {
     "data": {
      "text/plain": [
       "'ruanyf,peng-zhihui,espressif,vnpy,bilibili'"
      ]
     },
     "execution_count": 70,
     "metadata": {},
     "output_type": "execute_result"
    }
   ],
   "source": [
    "userdata['leader_strength'] = userdata['followers'] / (1 + userdata['following'])\n",
    "leaders = leaders.sort_values(by='leader_strength',ascending = False).head(5)\n",
    "\n",
    "ans8 = ','.join(leaders['login'])\n",
    "ans8\n"
   ]
  },
  {
   "cell_type": "markdown",
   "metadata": {},
   "source": [
    "9. What is the correlation between the number of followers and the number of public repositories among users in Shanghai?"
   ]
  },
  {
   "cell_type": "code",
   "execution_count": 77,
   "metadata": {},
   "outputs": [
    {
     "data": {
      "text/plain": [
       "-0.005"
      ]
     },
     "execution_count": 77,
     "metadata": {},
     "output_type": "execute_result"
    }
   ],
   "source": [
    "corr = userdata['followers'].corr(userdata['public_repos'])\n",
    "corr.round(3)"
   ]
  },
  {
   "cell_type": "markdown",
   "metadata": {},
   "source": [
    "10. Does creating more repos help users get more followers? Using regression, estimate how many additional followers a user gets per additional public repository.\n",
    "Regression slope of followers on repos (to 3 decimal places, e.g. 0.123 or -0.123)"
   ]
  },
  {
   "cell_type": "code",
   "execution_count": 89,
   "metadata": {},
   "outputs": [
    {
     "data": {
      "text/plain": [
       "-0.054"
      ]
     },
     "execution_count": 89,
     "metadata": {},
     "output_type": "execute_result"
    }
   ],
   "source": [
    "from sklearn.linear_model import LinearRegression\n",
    "\n",
    "X = userdata[[\"public_repos\"]]\n",
    "Y = userdata[\"followers\"]\n",
    "\n",
    "model = LinearRegression()\n",
    "model.fit(X,Y)\n",
    "\n",
    "slope = model.coef_[0].round(3)\n",
    "slope\n"
   ]
  },
  {
   "cell_type": "markdown",
   "metadata": {},
   "source": [
    "11. Do people typically enable projects and wikis together? What is the correlation between a repo having projects enabled and having wiki enabled?"
   ]
  },
  {
   "cell_type": "code",
   "execution_count": 119,
   "metadata": {},
   "outputs": [
    {
     "name": "stdout",
     "output_type": "stream",
     "text": [
      "0.369\n"
     ]
    }
   ],
   "source": [
    "# repodata['has_projects'] = repodata['has_projects'].astype(int)\n",
    "# repodata['has_wiki'] = repodata['has_wiki'].astype(int)\n",
    "\n",
    "# corr = repodata['has_projects'].corr(repodata['has_wiki'])\n",
    "\n",
    "# corr\n",
    "\n",
    "if repodata['has_projects'].dtype == 'object':\n",
    "    repodata['has_projects'] = repodata['has_projects'].map({'true': True, 'false': False})\n",
    "if repodata['has_wiki'].dtype == 'object':\n",
    "    repodata['has_wiki'] = repodata['has_wiki'].map({'true': True, 'false': False})\n",
    "    \n",
    "correlation = repodata['has_projects'].corr(repodata['has_wiki'])\n",
    "    \n",
    "print(round(correlation, 3))"
   ]
  },
  {
   "cell_type": "markdown",
   "metadata": {},
   "source": [
    "12. Do hireable users follow more people than those who are not hireable?"
   ]
  },
  {
   "cell_type": "code",
   "execution_count": 121,
   "metadata": {},
   "outputs": [
    {
     "data": {
      "text/plain": [
       "142.72775252636688"
      ]
     },
     "execution_count": 121,
     "metadata": {},
     "output_type": "execute_result"
    }
   ],
   "source": [
    "# hireable = userdata[userdata['hireable'] == True]['following'].mean()\n",
    "# non_hireable = userdata[(userdata['hireable'] == False)|(userdata['hireable'] == \"\")]['following'].mean()\n",
    "\n",
    "# diff = hireable - non_hireable\n",
    "\n",
    "# diff.round(3)\n",
    "\n",
    "hireable_avg_following = userdata[userdata['hireable'] == True]['following'].mean()\n",
    "non_hireable_avg_following = userdata[userdata['hireable'] == False]['following'].mean()\n",
    "difference = hireable_avg_following - non_hireable_avg_following\n",
    "difference"
   ]
  },
  {
   "cell_type": "markdown",
   "metadata": {},
   "source": [
    "13. Some developers write long bios. Does that help them get more followers? What's the correlation of the length of their bio (in Unicode words, split by whitespace) with followers? (Ignore people without bios)"
   ]
  },
  {
   "cell_type": "code",
   "execution_count": 136,
   "metadata": {},
   "outputs": [
    {
     "data": {
      "text/plain": [
       "-0.045"
      ]
     },
     "execution_count": 136,
     "metadata": {},
     "output_type": "execute_result"
    }
   ],
   "source": [
    "userdata['followers'] = pd.to_numeric(userdata['followers'], errors='coerce').fillna(0)\n",
    "\n",
    "userdata_with_bio = userdata[userdata['bio'].notna()]\n",
    "\n",
    "userdata_with_bio['bio_word_count'] = userdata_with_bio['bio'].apply(lambda x: len(x.split()))\n",
    "\n",
    "bio_followers_correlation = userdata_with_bio['bio_word_count'].corr(userdata_with_bio['followers'])\n",
    "\n",
    "bio_followers_correlation = round(bio_followers_correlation, 3)\n",
    "\n",
    "bio_followers_correlation\n"
   ]
  },
  {
   "cell_type": "code",
   "execution_count": 135,
   "metadata": {},
   "outputs": [
    {
     "data": {
      "text/plain": [
       "-5.367778579046551"
      ]
     },
     "execution_count": 135,
     "metadata": {},
     "output_type": "execute_result"
    }
   ],
   "source": [
    "from sklearn.linear_model import LinearRegression\n",
    "users_with_bio = userdata[(userdata['bio'].notna()) & (userdata['bio'] != '')].copy()\n",
    "users_with_bio.loc[:, 'bio_len'] = users_with_bio['bio'].str.len()\n",
    "\n",
    "X = users_with_bio['bio_len'].values.reshape(-1,1)\n",
    "y = users_with_bio['followers']\n",
    "\n",
    "lr2 = LinearRegression()\n",
    "lr2.fit(X, y)\n",
    "lr2.coef_[0]"
   ]
  },
  {
   "cell_type": "markdown",
   "metadata": {},
   "source": [
    "14. Who created the most repositories on weekends (UTC)? List the top 5 users' login in order, comma-separated"
   ]
  },
  {
   "cell_type": "code",
   "execution_count": 126,
   "metadata": {},
   "outputs": [
    {
     "name": "stdout",
     "output_type": "stream",
     "text": [
      "losfair,j5s,Yuan-ManX,gonnavis,yuzd\n"
     ]
    }
   ],
   "source": [
    "from collections import Counter\n",
    "from datetime import datetime\n",
    "\n",
    "weekend_repo_counts = Counter()\n",
    "\n",
    "with open('repositories.csv', 'r', encoding='utf-8') as file:\n",
    "    reader = csv.DictReader(file)\n",
    "    \n",
    "    for row in reader:\n",
    "        created_at = row.get('created_at', '')\n",
    "        if created_at:\n",
    "            created_date = datetime.fromisoformat(created_at[:-1])  \n",
    "            \n",
    "            if created_date.weekday() in [5, 6]:\n",
    "                user_login = row['login']\n",
    "                weekend_repo_counts[user_login] += 1  \n",
    "\n",
    "top_users = weekend_repo_counts.most_common(5)\n",
    "\n",
    "top_logins = [user[0] for user in top_users]\n",
    "\n",
    "print(','.join(top_logins))"
   ]
  },
  {
   "cell_type": "markdown",
   "metadata": {},
   "source": [
    "15. Do people who are hireable share their email addresses more often?\n",
    "[fraction of users with email when hireable=true] minus [fraction of users with email for the rest] (to 3 decimal places, e.g. 0.123 or -0.123)"
   ]
  },
  {
   "cell_type": "code",
   "execution_count": 137,
   "metadata": {},
   "outputs": [
    {
     "data": {
      "text/plain": [
       "-0.973"
      ]
     },
     "execution_count": 137,
     "metadata": {},
     "output_type": "execute_result"
    }
   ],
   "source": [
    "hireable_users = userdata[(userdata['hireable'] == 'true') & (userdata['email'].notna()) & (userdata['email'] != \"\")]\n",
    "non_hireable_users = userdata[(userdata['hireable'] != 'true') & (userdata['email'].notna()) & (userdata['email'] != \"\")]\n",
    "hireable_with_email_fraction = len(hireable_users) / len(userdata[userdata['hireable'] == True])\n",
    "non_hireable_with_email_fraction = len(non_hireable_users) / len(userdata[userdata['hireable'] == False])\n",
    "email_fraction_difference = round(hireable_with_email_fraction - non_hireable_with_email_fraction, 3)\n",
    "\n",
    "email_fraction_difference\n"
   ]
  },
  {
   "cell_type": "code",
   "execution_count": 134,
   "metadata": {},
   "outputs": [
    {
     "data": {
      "text/plain": [
       "0.07435682450024272"
      ]
     },
     "execution_count": 134,
     "metadata": {},
     "output_type": "execute_result"
    }
   ],
   "source": [
    "userdata['hireable'] = userdata['hireable'].astype(bool)\n",
    "fraction_hireable = userdata[userdata['hireable'] == True]['email'].notna().mean()\n",
    "fraction_non_hireable = userdata[userdata['hireable'] != True]['email'].notna().mean()\n",
    "\n",
    "diff = fraction_hireable - fraction_non_hireable\n",
    "\n",
    "diff\n"
   ]
  },
  {
   "cell_type": "markdown",
   "metadata": {},
   "source": [
    "16. Let's assume that the last word in a user's name is their surname (ignore missing names, trim and split by whitespace.) What's the most common surname? (If there's a tie, list them all, comma-separated, alphabetically)\n",
    "Number of users with the most common surname"
   ]
  },
  {
   "cell_type": "code",
   "execution_count": 115,
   "metadata": {},
   "outputs": [
    {
     "name": "stderr",
     "output_type": "stream",
     "text": [
      "C:\\Users\\p cc\\AppData\\Local\\Temp\\ipykernel_6456\\3420528830.py:2: SettingWithCopyWarning: \n",
      "A value is trying to be set on a copy of a slice from a DataFrame.\n",
      "Try using .loc[row_indexer,col_indexer] = value instead\n",
      "\n",
      "See the caveats in the documentation: https://pandas.pydata.org/pandas-docs/stable/user_guide/indexing.html#returning-a-view-versus-a-copy\n",
      "  userdata_with_name['surname'] = userdata_with_name['name'].apply(lambda x: x.strip().split()[-1] if x.strip() else None)\n"
     ]
    },
    {
     "data": {
      "text/plain": [
       "'Zhang'"
      ]
     },
     "execution_count": 115,
     "metadata": {},
     "output_type": "execute_result"
    }
   ],
   "source": [
    "userdata_with_name = userdata[userdata['name'].notna() & userdata['name'].str.strip().ne(\"\")]\n",
    "userdata_with_name['surname'] = userdata_with_name['name'].apply(lambda x: x.strip().split()[-1] if x.strip() else None)\n",
    "surname_counts = userdata_with_name['surname'].value_counts()\n",
    "\n",
    "most_common_surnames = surname_counts[surname_counts == surname_counts.max()]\n",
    "\n",
    "most_common_surnames.index.item()\n"
   ]
  }
 ],
 "metadata": {
  "kernelspec": {
   "display_name": "Python 3",
   "language": "python",
   "name": "python3"
  },
  "language_info": {
   "codemirror_mode": {
    "name": "ipython",
    "version": 3
   },
   "file_extension": ".py",
   "mimetype": "text/x-python",
   "name": "python",
   "nbconvert_exporter": "python",
   "pygments_lexer": "ipython3",
   "version": "3.12.2"
  }
 },
 "nbformat": 4,
 "nbformat_minor": 2
}
